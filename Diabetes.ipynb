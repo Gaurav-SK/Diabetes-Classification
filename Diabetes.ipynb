{
 "cells": [
  {
   "cell_type": "markdown",
   "metadata": {},
   "source": [
    "### Description\n",
    "For this exam, you will predict the target values for the test.csv. \n",
    "### Attributes\n",
    "- A: Number of pregnancies\n",
    "- B: Concentration of plasma glucose in a 2-hour oral glucose tolerance test\n",
    "- C: Diastolic blood pressure - Measured in mmHg\n",
    "- D: Triceps skin fold thickness - Measured in mm\n",
    "- E: Insulin concentration in the serum in 2 hours. Measured in (mu U/ml)\n",
    "- F: Weight in kg/height in (m^2)\n",
    "- G: Function that assigns the probability of someone getting diabetes\n",
    "- H: Age\n",
    "- Target: Value of 0 or 1 corresponds to no diabetes and diabetes\n",
    "\n",
    "### Devliverable\n",
    "Submit the iPython notebook or the .py file of your work. Also, you should submit the csv file of the prediction. \n",
    "\n",
    "### Exam rules\n",
    "You can use only the machine learning models discussed in Course Module 3. If the prediction is based on a model that is not discussed in class, one of the models in your submission will randomly be selected for grading. Fifty percent of the grade is based on your Python code submission. The following rubric will be used for grading. The other 50 percent of your grade is based on the accuracy of the prediction. \n",
    "\n",
    "### Rubric\n",
    "| Descriptio | Fair | Good | excelent |\n",
    "|:-----------|:------|:------|:----------|\n",
    "|Preprocessing|Demonstrate limited understanding of preprocessing steps | Demonstrate a moderate ability to find a way to apply the preprocessing step to prepare the dataset for Machine learning models | Demonstrate the ability to choose the appropriate preprocessing model to prepare the dataset |\n",
    "|Machine learning model | Demonstrate limited understanding of methods used to train machine learning models | Demonstrate the ability to understand techniques used to train machine learning models with some effectiveness. This includes optimization algorithms, initialization, regularization, and hyperparameter search methods | Demonstrate ability to understand and apply various algorithms as well as initialization, regularization, and hyperparameter search methods |\n",
    "|Final prediction |Demonstrate limited understanding of strategies to structure and end to end machine learning project | Demonstrate ability to understand classic ML strategies such as error analysis, data split, data collection and evaluation metric selection with some effectiveness | Demonstrates ability to structure the project and apply methods such as error analysis, data split, data collection, design a labeling process and select proper evaluation metrics to improve performance. "
   ]
  },
  {
   "cell_type": "code",
   "execution_count": null,
   "metadata": {},
   "outputs": [],
   "source": []
  }
 ],
 "metadata": {
  "kernelspec": {
   "display_name": "Python 3",
   "language": "python",
   "name": "python3"
  },
  "language_info": {
   "codemirror_mode": {
    "name": "ipython",
    "version": 3
   },
   "file_extension": ".py",
   "mimetype": "text/x-python",
   "name": "python",
   "nbconvert_exporter": "python",
   "pygments_lexer": "ipython3",
   "version": "3.7.4"
  }
 },
 "nbformat": 4,
 "nbformat_minor": 2
}
